{
 "cells": [
  {
   "cell_type": "markdown",
   "metadata": {},
   "source": [
    "# Name Generator"
   ]
  },
  {
   "cell_type": "code",
   "execution_count": 2,
   "metadata": {},
   "outputs": [],
   "source": [
    "import os\n",
    "import numpy as np\n",
    "import torch\n",
    "import torch.nn.functional as F\n",
    "from torch.utils.data import Dataset\n",
    "import warnings\n",
    "import matplotlib.pyplot as plt"
   ]
  },
  {
   "cell_type": "markdown",
   "metadata": {},
   "source": [
    "First, let's set some path usefult in this application"
   ]
  },
  {
   "cell_type": "code",
   "execution_count": 3,
   "metadata": {},
   "outputs": [
    {
     "name": "stdout",
     "output_type": "stream",
     "text": [
      "Path containing all names: .\\data\\names.txt\n",
      "Folder that contains the saved network: .\\model\n"
     ]
    }
   ],
   "source": [
    "PRJ_PATH = '.'\n",
    "DATA_PATH = os.path.join(PRJ_PATH, 'data', 'names.txt')\n",
    "MODEL_FLD = os.path.join(PRJ_PATH, 'model')\n",
    "\n",
    "print(f'Path containing all names: {DATA_PATH}')\n",
    "print(f'Folder that contains the saved network: {MODEL_FLD}')"
   ]
  },
  {
   "cell_type": "markdown",
   "metadata": {},
   "source": [
    "We need to create 2 simple dictionaries that maps an integer to a letter and vice versa\n",
    "\n",
    "char2int : char -> integer <br />\n",
    "int2char : integer -> char"
   ]
  },
  {
   "cell_type": "code",
   "execution_count": 4,
   "metadata": {},
   "outputs": [],
   "source": [
    "char2int = {'.': 0, 'a': 1, 'b': 2, 'c': 3, 'd': 4, 'e': 5, 'f': 6, 'g': 7,\n",
    "            'h': 8, 'i': 9, 'j': 10, 'k': 11, 'l': 12, 'm': 13, 'n': 14,\n",
    "            'o': 15, 'p': 16, 'q': 17, 'r': 18, 's': 19, 't': 20, 'u': 21,\n",
    "            'v': 22, 'w': 23, 'x': 24, 'y': 25, 'z': 26}\n",
    "int2char = inv_map = {v: k for k, v in char2int.items()}"
   ]
  },
  {
   "cell_type": "code",
   "execution_count": 5,
   "metadata": {},
   "outputs": [],
   "source": [
    "# Creating the folder where the model will be saved\n",
    "if 'model' not in os.listdir(PRJ_PATH):\n",
    "    os.makedirs(os.path.join(PRJ_PATH, 'model'))"
   ]
  },
  {
   "cell_type": "markdown",
   "metadata": {},
   "source": [
    "## Dataset"
   ]
  },
  {
   "cell_type": "code",
   "execution_count": 6,
   "metadata": {},
   "outputs": [
    {
     "name": "stdout",
     "output_type": "stream",
     "text": [
      "First 10 names:\n",
      "brycen\toakley\tisabel\testella\tenoch\n",
      "natasha\tbrynn\tjayde\tkyla\tsophie\n"
     ]
    }
   ],
   "source": [
    "# Loading the file containing the names and prepocessing them\n",
    "with open(DATA_PATH, 'r') as f:\n",
    "    names = f.readlines()\n",
    "    names = [s.strip().lower() for s in names]\n",
    "\n",
    "print('First 10 names:')\n",
    "print('\\t'.join(names[:5]))\n",
    "print('\\t'.join(names[5:10]))"
   ]
  },
  {
   "cell_type": "code",
   "execution_count": 12,
   "metadata": {},
   "outputs": [],
   "source": [
    "class NameDatataset(Dataset):\n",
    "    def __init__(self, names=None):\n",
    "        # Names\n",
    "        self.names = names\n",
    "\n",
    "    def __len__(self):\n",
    "        return len(self.names)\n",
    "\n",
    "    def __getitem__(self, idx):\n",
    "        # Fix the length to 11\n",
    "        x_str = (self.names[idx].lower() + '.'*11)[:11]\n",
    "        # Create the expected output for x_str\n",
    "        y_str = x_str[1:] + \".\"\n",
    "\n",
    "        x = torch.zeros((11, 27))\n",
    "        y = torch.zeros(11)\n",
    "        for i, c in enumerate(x_str):\n",
    "            # Perform one-hot-encoding of each symbol\n",
    "            x[i, char2int[c]] = 1\n",
    "        for i, c in enumerate(y_str):\n",
    "            y[i] = char2int[c]\n",
    "\n",
    "        return x, y"
   ]
  },
  {
   "cell_type": "markdown",
   "metadata": {},
   "source": [
    "## Model"
   ]
  },
  {
   "cell_type": "code",
   "execution_count": 13,
   "metadata": {},
   "outputs": [],
   "source": [
    "INPUT_SIZE = 27\n",
    "HIDDEN_SIZE = 216\n",
    "OUTPUT_SIZE = 27\n",
    "NUM_LAYERS = 2"
   ]
  },
  {
   "cell_type": "code",
   "execution_count": 14,
   "metadata": {},
   "outputs": [],
   "source": [
    "class Lstm(torch.nn.Module):\n",
    "    def __init__(self, input_size, hidden_size, output_size, num_layers):\n",
    "        super(Lstm, self).__init__()\n",
    "        self.input_size = input_size\n",
    "        self.hidden_size = hidden_size\n",
    "        self.num_layers = num_layers\n",
    "\n",
    "        # LSTM layer\n",
    "        self.lstm1 = torch.nn.LSTM(input_size=input_size, hidden_size=hidden_size, num_layers=num_layers, batch_first=True)\n",
    "\n",
    "        # Fully connected layers\n",
    "        self.fc1 = torch.nn.Linear(hidden_size, int(round(hidden_size/2, 0)))\n",
    "        self.fc2 = torch.nn.Linear(int(round(hidden_size/2, 0)), output_size)\n",
    "\n",
    "    def forward(self, X, states):\n",
    "        ht, ct = states\n",
    "        # LSTM\n",
    "        out, (ht, ct) = self.lstm1(X, (ht, ct))\n",
    "\n",
    "        # First FC layer\n",
    "        out = self.fc1(out)\n",
    "        out = F.relu(out)\n",
    "\n",
    "        # Second FC layer\n",
    "        out = self.fc2(out)\n",
    "\n",
    "        return out, (ht, ct)"
   ]
  },
  {
   "cell_type": "markdown",
   "metadata": {},
   "source": [
    "## Training"
   ]
  },
  {
   "cell_type": "code",
   "execution_count": 15,
   "metadata": {},
   "outputs": [],
   "source": [
    "np.random.seed(1)\n",
    "torch.manual_seed(1)\n",
    "warnings.filterwarnings(\"ignore\", category=UserWarning)"
   ]
  },
  {
   "cell_type": "code",
   "execution_count": 16,
   "metadata": {},
   "outputs": [],
   "source": [
    "BATCH_SIZE = 1\n",
    "LEARNING_RATE = 0.005\n",
    "GAMMA = 0.95\n",
    "NUM_EPOCHS = 200"
   ]
  },
  {
   "cell_type": "code",
   "execution_count": 18,
   "metadata": {},
   "outputs": [
    {
     "name": "stdout",
     "output_type": "stream",
     "text": [
      "Training on cuda:0\n"
     ]
    }
   ],
   "source": [
    "device = torch.device(\"cuda:0\" if torch.cuda.is_available() else \"cpu\")\n",
    "print('Training on ' + (\"cuda:0\" if torch.cuda.is_available() else \"cpu\"))"
   ]
  },
  {
   "cell_type": "code",
   "execution_count": 19,
   "metadata": {},
   "outputs": [],
   "source": [
    "# Let's instantiate the Dataset\n",
    "dataset = NameDatataset(names)\n",
    "# Let's instantiate the Loader\n",
    "loader = torch.utils.data.DataLoader(dataset, batch_size=BATCH_SIZE)"
   ]
  },
  {
   "cell_type": "code",
   "execution_count": 20,
   "metadata": {},
   "outputs": [],
   "source": [
    "# Instantiate the network\n",
    "model = Lstm(INPUT_SIZE, HIDDEN_SIZE, OUTPUT_SIZE, NUM_LAYERS).to(device)\n",
    "# Instantiate the optimizer\n",
    "optimizer = torch.optim.Adam(model.parameters(), lr=LEARNING_RATE)\n",
    "# Instantiate the loss function\n",
    "loss_fn = torch.nn.CrossEntropyLoss(reduction='mean')\n",
    "# Instantiate the learning rate scheduler\n",
    "sched = torch.optim.lr_scheduler.StepLR(optimizer=optimizer, step_size=1, gamma=GAMMA)"
   ]
  },
  {
   "cell_type": "code",
   "execution_count": null,
   "metadata": {},
   "outputs": [],
   "source": [
    "losses = []\n",
    "for epoch in range(NUM_EPOCHS):\n",
    "    model.train()\n",
    "\n",
    "    batch_loss = 0\n",
    "\n",
    "    h0 = torch.zeros((NUM_LAYERS, 1, HIDDEN_SIZE)).to(device)\n",
    "    c0 = torch.zeros((NUM_LAYERS, 1, HIDDEN_SIZE)).to(device)\n",
    "    for batch_id, (data, label) in enumerate(loader):\n",
    "        h, c = h0.detach().clone(), c0.detach().clone()\n",
    "\n",
    "        # First, push on the GPU all the tensors\n",
    "        data, label = data.to(device), label.to(device, dtype=torch.long)\n",
    "        # Empty the gradient\n",
    "        optimizer.zero_grad()\n",
    "        # Get the output from the network\n",
    "        out, (h, c) = model(data, (h, c))\n",
    "        out = out.transpose(1, 2)\n",
    "        # Calculate the loss\n",
    "        loss = loss_fn(out, label)\n",
    "        # Perform the backpropagation\n",
    "        loss.backward()\n",
    "        # Perform the gradient descent\n",
    "        optimizer.step()\n",
    "\n",
    "        # Record the loss\n",
    "        batch_loss += loss.item()\n",
    "\n",
    "    tot_loss = batch_loss / len(loader)\n",
    "    print(f'Epoch {epoch} -> ' +\n",
    "          f'Loss = {tot_loss:.6f}')\n",
    "\n",
    "    losses.append(tot_loss)\n",
    "    sched.step()"
   ]
  },
  {
   "cell_type": "code",
   "execution_count": 22,
   "metadata": {},
   "outputs": [
    {
     "name": "stdout",
     "output_type": "stream",
     "text": [
      "Saved model in .\\model\n"
     ]
    }
   ],
   "source": [
    "torch.save(model.state_dict(), os.path.join(MODEL_FLD, 'net.pt'))\n",
    "print(f'Saved model in {MODEL_FLD}')"
   ]
  },
  {
   "cell_type": "code",
   "execution_count": 24,
   "metadata": {},
   "outputs": [
    {
     "data": {
      "image/png": "[encoded data removed]",
      "text/plain": [
       "<Figure size 432x288 with 1 Axes>"
      ]
     },
     "metadata": {
      "needs_background": "light"
     },
     "output_type": "display_data"
    }
   ],
   "source": [
    "plt.xlabel(\"Epochs\")\n",
    "plt.ylabel(\"Loss\")\n",
    "plt.grid(color=\"#989898\", zorder=0)\n",
    "\n",
    "plt.plot(list(range(len(losses))), losses, zorder=3)\n",
    "\n",
    "plt.tight_layout()\n",
    "plt.show()"
   ]
  },
  {
   "cell_type": "markdown",
   "metadata": {},
   "source": [
    "## Generator"
   ]
  },
  {
   "cell_type": "code",
   "execution_count": 50,
   "metadata": {},
   "outputs": [],
   "source": [
    "# Used to create a tensor that represents the word passed as argument\n",
    "def word2tensor(word, max_name_len):\n",
    "    w = torch.zeros((11, 27))\n",
    "    for i in range(len(word)):\n",
    "        w[i, char2int[word[i]]] = 1\n",
    "    for i in range(len(word), max_name_len):\n",
    "        w[i, 0] = 1\n",
    "    return torch.unsqueeze(w, 0)"
   ]
  },
  {
   "cell_type": "code",
   "execution_count": 51,
   "metadata": {},
   "outputs": [],
   "source": [
    "MAX_NAME_LEN = 11\n",
    "TOP_K_OPTIONS = 3\n",
    "NUM_NAMES = 20"
   ]
  },
  {
   "cell_type": "code",
   "execution_count": 52,
   "metadata": {},
   "outputs": [],
   "source": [
    "# Set the first letter of the kind of name that you want generate\n",
    "NAMES_FIRST_LETTER = ['a', 'f']"
   ]
  },
  {
   "cell_type": "code",
   "execution_count": 53,
   "metadata": {},
   "outputs": [
    {
     "name": "stdout",
     "output_type": "stream",
     "text": [
      "Name generated!\n"
     ]
    }
   ],
   "source": [
    "model.eval()\n",
    "\n",
    "h0 = torch.zeros((NUM_LAYERS, 1, HIDDEN_SIZE)).to(device)\n",
    "c0 = torch.zeros((NUM_LAYERS, 1, HIDDEN_SIZE)).to(device)\n",
    "\n",
    "names = []\n",
    "\n",
    "for letter in NAMES_FIRST_LETTER:\n",
    "    current_names = []\n",
    "    for _ in range(NUM_NAMES):\n",
    "        name = letter\n",
    "\n",
    "        with torch.no_grad():\n",
    "            for idx in range(MAX_NAME_LEN):\n",
    "                # If last letter is the \"end\" character, terminate the generation\n",
    "                if name[-1] == '.': break\n",
    "\n",
    "                # Generate the tensor representing the name (till the last letter generated)\n",
    "                data = word2tensor(name, MAX_NAME_LEN).to(device)\n",
    "\n",
    "                # Generate new letter for the name\n",
    "                h, c = h0.detach().clone(), c0.detach().clone()\n",
    "                out, (h, c) = model(data, (h, c))\n",
    "\n",
    "                # Select the top-k generated letters\n",
    "                out = torch.squeeze(out, dim=0)\n",
    "                out = out[idx]\n",
    "                top_k_val, top_k_idx = torch.topk(out, TOP_K_OPTIONS)\n",
    "                top_k_idx = top_k_idx.cpu().numpy()\n",
    "\n",
    "                # From the top-k select with special distribution which is the next letter\n",
    "                # This is done to avoid having completely a deterministic name generation process\n",
    "                selector = np.random.rand()\n",
    "                if   selector >= 0.5:   choice = 0\n",
    "                elif selector >= 0.2:   choice = 1\n",
    "                else:                   choice = 2\n",
    "\n",
    "                # Appen to the name the new letter (or \"end\" character)\n",
    "                last_letter = int2char[top_k_idx[choice]]\n",
    "                if last_letter != \".\": name += last_letter\n",
    "                else:\n",
    "                    if idx > 2: name += last_letter\n",
    "\n",
    "        if name[-1] == '.': name = name[:-1]\n",
    "        current_names.append(name)\n",
    "\n",
    "    names.append((letter, current_names))\n",
    "print('Name generated!')"
   ]
  },
  {
   "cell_type": "code",
   "execution_count": 54,
   "metadata": {},
   "outputs": [
    {
     "name": "stdout",
     "output_type": "stream",
     "text": [
      "Names generated with starting letter \"a\":\n",
      "\n",
      "alexa          anablee        anas           alexandriah    alessan        \n",
      "arya           ares           aleja          alexan         alex           \n",
      "aleso          annaballa      ana            alinah         annabel        \n",
      "\n",
      "-------------------------------------------------------------------------\n",
      "\n",
      "Names generated with starting letter \"f\":\n",
      "\n",
      "farroyi        frarandol      frances        franco         frarin         \n",
      "frane          fishe          finnegenle     farbana        frediet        \n",
      "finnegan       fishel         fridahna       faita          farro          \n",
      "\n",
      "-------------------------------------------------------------------------\n",
      "\n"
     ]
    }
   ],
   "source": [
    "for letter, names_list in names:\n",
    "    print(f'Names generated with starting letter \"{letter}\":\\n')\n",
    "\n",
    "    for curr_idx in range(0, NUM_NAMES-5, 5):\n",
    "        final_str = ''\n",
    "        for idx in range(curr_idx, curr_idx+5):\n",
    "            final_str += names_list[idx] + ' '*(15-len(names_list[idx]))\n",
    "        print(final_str)\n",
    "    print('\\n-------------------------------------------------------------------------\\n')"
   ]
  }
 ],
 "metadata": {
  "interpreter": {
   "hash": "2423b31adc4e5c7e619478db68d9c6947844c0ccd0ec8adf66ade40c69bbb33a"
  },
  "kernelspec": {
   "display_name": "Python 3.8.10 ('NN')",
   "language": "python",
   "name": "python3"
  },
  "language_info": {
   "codemirror_mode": {
    "name": "ipython",
    "version": 3
   },
   "file_extension": ".py",
   "mimetype": "text/x-python",
   "name": "python",
   "nbconvert_exporter": "python",
   "pygments_lexer": "ipython3",
   "version": "3.8.10"
  },
  "orig_nbformat": 4
 },
 "nbformat": 4,
 "nbformat_minor": 2
}
